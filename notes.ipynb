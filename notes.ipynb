{
 "metadata": {
  "language_info": {
   "codemirror_mode": {
    "name": "ipython",
    "version": 3
   },
   "file_extension": ".py",
   "mimetype": "text/x-python",
   "name": "python",
   "nbconvert_exporter": "python",
   "pygments_lexer": "ipython3",
   "version": "3.8.5"
  },
  "orig_nbformat": 2,
  "kernelspec": {
   "name": "python385jvsc74a57bd00868389d2bf38b653b558f493601122036670735cbbe9cfe90989515b9c33c1a",
   "display_name": "Python 3.8.5 64-bit ('base': conda)"
  }
 },
 "nbformat": 4,
 "nbformat_minor": 2,
 "cells": [
  {
   "source": [
    "# Blockchain and Cryptocurrencies\n",
    "\n",
    "This notebook summarizes the key concepts related to blockchain and cryptocurrencies. It is mostly written as notes to myself, in an attempt to consolidate the information found here and there on the web. The objective being to gain an understanding of the blockchain technology by experimenting with prototypes of the key features. Code was gathered from many tutorials, and I've tried to give proper credit to my sources.\n",
    "\n",
    "Topics to be covered\n",
    "\n",
    "+ signature\n",
    "+ blockchain structure\n",
    "+ mining and validation of blocks\n",
    "+ verification of transactions (double-spend problem)\n",
    "\n"
   ],
   "cell_type": "markdown",
   "metadata": {}
  },
  {
   "source": [
    "## Elements of Crypography\n",
    "\n",
    "This section is a summary of material found in the epub [Practical Crypography](https://cryptobook.nakov.com/) by Svetlin Nakov.\n",
    "A basic understaning of cryptography is a first necessary step, since the blockchain uses many cryptographic techniques:\n",
    "\n",
    "+ hash functions for creating message digests of fixed length which uniquely identifies the input message\n",
    "+ Assymetric encryption, using related public and private keys\n",
    "+ Digital signatures, which need to be verified\n",
    "\n",
    "Each topic is next considered in turn."
   ],
   "cell_type": "markdown",
   "metadata": {}
  },
  {
   "source": [
    "### Hash Functions\n",
    "\n",
    "Let's start with a simple test to visualize a hash result, and show how a small change in the input message translate into a radically different hash code. By design, the original message cannot be infered from the hash code. Proof-of-work mining algorithms use hash functions that are more complicated than this simple example, and are intentionally designed to be computationally intensive. "
   ],
   "cell_type": "markdown",
   "metadata": {}
  },
  {
   "cell_type": "code",
   "execution_count": 16,
   "metadata": {},
   "outputs": [
    {
     "output_type": "stream",
     "name": "stdout",
     "text": [
      "b'hello world'  ->  644bcc7e564373040999aac89e7622f3ca71fba1d972fd94a31c3bfbf24e3938\nb'Hello world'  ->  369183d3786773cef4e56c7b849e7ef5f742867510b676d6b38f8e38a222d8a2\ndigest length (bytes):  32  (ascii):  64\n"
     ]
    }
   ],
   "source": [
    "import hashlib, binascii\n",
    "message_1 = b'hello world'\n",
    "message_2 = b'Hello world'\n",
    "sha_hash_1 = hashlib.sha3_256(message_1)\n",
    "sha_hash_2 = hashlib.sha3_256(message_2)\n",
    "w_1 = sha_hash_1.hexdigest()\n",
    "w_2 = sha_hash_2.hexdigest()\n",
    "print(message_1, \" -> \", w_1)\n",
    "print(message_2, \" -> \", w_2)\n",
    "print(\"digest length (bytes): \", sha_hash_1.digest_size, \" (ascii): \", len(w_1) )\n",
    "\n"
   ]
  },
  {
   "source": [
    "### Encryption with symmetric key\n",
    "\n",
    "A symmetric key means that the same key is used for ciphering and deciphering. \n",
    "There are three main components to an encryption scheme with symmetric key:\n",
    "+ an initialization vector (IV) used as initial value in the calculation,\n",
    "+ a tag or MAC (message authentication code) code used to verify the consistency of the IV, the key and the message,\n",
    "+ a cipher key,\n",
    "+ and finally an algorithm to produce a ciphered text, given the plain text, a key and an IV. \n",
    "In the Ethereum wallet, the user's private key is encrypted with AES symmetric key algorithm.\n"
   ],
   "cell_type": "markdown",
   "metadata": {}
  },
  {
   "cell_type": "code",
   "execution_count": 37,
   "metadata": {},
   "outputs": [
    {
     "output_type": "stream",
     "name": "stdout",
     "text": [
      "AES encryption key:  b'f2c2c7cc732c20c2c64' ...\nEncrypted message: b'a57858927b74d2e28c008e'\nlength (bytes) message:  11  cipher:  11\nOriginal message:  Hello World  Clear text:  b'Hello World'\n"
     ]
    }
   ],
   "source": [
    "import pyaes, pbkdf2, binascii, os, secrets\n",
    "\n",
    "password = \"abcd\"\n",
    "passwordSalt = os.urandom(64)\n",
    "# generate a 32 bytes key (64 hex digits)\n",
    "key = pbkdf2.PBKDF2(password, passwordSalt).read(32)\n",
    "print(\"AES encryption key: \", binascii.hexlify(key)[1:20], \"...\")\n",
    "\n",
    "# initialization vector (256 bits)\n",
    "iv = secrets.randbits(256)\n",
    "\n",
    "# cipher a message\n",
    "message = \"Hello World\"\n",
    "aes = pyaes.AESModeOfOperationCTR(key, pyaes.Counter(iv))\n",
    "ciphertext = aes.encrypt(message)\n",
    "print('Encrypted message:', binascii.hexlify(ciphertext))\n",
    "print(\"length (bytes) message: \", len(message), \" cipher: \", len(ciphertext))\n",
    "\n",
    "# decipher...\n",
    "aes = pyaes.AESModeOfOperationCTR(key, pyaes.Counter(iv))\n",
    "clear_text = aes.decrypt(ciphertext)\n",
    "print(\"Original message: \", message, \" Clear text: \", clear_text)\n"
   ]
  },
  {
   "source": [
    "### Sharing a symmetric key\n",
    "\n",
    "Two users, each one with its own public key, can generate a shared secret key (to be used for symmetric encryption) as follows:"
   ],
   "cell_type": "markdown",
   "metadata": {}
  },
  {
   "cell_type": "code",
   "execution_count": 23,
   "metadata": {},
   "outputs": [
    {
     "output_type": "stream",
     "name": "stdout",
     "text": [
      "alice public key:  x806ddf0d2356281353 ...\nbob public key:    xf89542adb62443c58a ...\nalice shared key:  x2d83149ceaa0f5c25a ...\nbob shared key:    x2d83149ceaa0f5c25a ...\n"
     ]
    }
   ],
   "source": [
    "import pyDHE\n",
    "\n",
    "alice = pyDHE.new()\n",
    "alicePubKey = alice.getPublicKey()\n",
    "print(\"alice public key: \", hex(alicePubKey)[1:20], \"...\")\n",
    "\n",
    "bob = pyDHE.new()\n",
    "bobPubKey = bob.getPublicKey()\n",
    "print(\"bob public key:   \", hex(bobPubKey)[1:20], \"...\")\n",
    "\n",
    "aliceSharedKey = alice.update(bobPubKey)\n",
    "bobSharedKey = bob.update(alicePubKey)\n",
    "\n",
    "print(\"alice shared key: \", hex(aliceSharedKey)[1:20], \"...\")\n",
    "print(\"bob shared key:   \", hex(bobSharedKey)[1:20], \"...\")\n",
    "\n",
    "\n",
    "\n"
   ]
  },
  {
   "source": [
    "### Encryption with asymmetric key\n",
    "\n",
    "This is an important technology for the blockchain, as it provides both an encryption algorithm and a scheme for digital signature of records. Work is divided up between the two keys: messages are encrypted with the public key, and decrypted by the corresponding private key. Digital signature is performed with the private key, and can be verified with the public key. \n",
    "The process of encrypting/decrypting a file goes as follows:\n",
    "\n",
    "1. The file is encrypted with a symmetric key (DEM block)\n",
    "2. The symmetric key is encrypted with the sender's public key (KEM block)\n",
    "3. Both blocks are transmitted\n",
    "4. The receiver decrypts the KEM block with the private key, obtaining the symmetric key\n",
    "5. The DEM block is finally decrypted with the symmetric key\n",
    "\n",
    "We won't dig into the theory, but simply experiment with a few examples. An implementation of the steps outlined above is provided in the [pycryptodome documentation](https://pycryptodome.readthedocs.io/en/latest/src/examples.html)\n",
    "\n",
    "\n"
   ],
   "cell_type": "markdown",
   "metadata": {}
  },
  {
   "cell_type": "code",
   "execution_count": 9,
   "metadata": {},
   "outputs": [
    {
     "output_type": "execute_result",
     "data": {
      "text/plain": [
       "450"
      ]
     },
     "metadata": {},
     "execution_count": 9
    }
   ],
   "source": [
    "from Crypto.PublicKey import RSA\n",
    "import io\n",
    "\n",
    "key = RSA.generate(2048)\n",
    "pri_key = key.export_key()\n",
    "pub_key = key.publickey().export_key()\n",
    "# simulate writing files with public and private keys\n",
    "file_private_pem = io.BytesIO()\n",
    "file_private_pem.write(pri_key)\n",
    "file_receiver_pem = io.BytesIO()\n",
    "file_receiver_pem.write(pub_key)\n"
   ]
  },
  {
   "source": [
    "RSA is used to perform an asymmetric encryption of \n",
    "an AES symmetric key. This key is used to encrypt the data itself."
   ],
   "cell_type": "markdown",
   "metadata": {}
  },
  {
   "cell_type": "code",
   "execution_count": 15,
   "metadata": {},
   "outputs": [
    {
     "output_type": "execute_result",
     "data": {
      "text/plain": [
       "0"
      ]
     },
     "metadata": {},
     "execution_count": 15
    }
   ],
   "source": [
    "from Crypto.PublicKey import RSA\n",
    "from Crypto.Random import get_random_bytes\n",
    "from Crypto.Cipher import AES, PKCS1_OAEP\n",
    "\n",
    "data = \"We shall attack at dawn\".encode(\"utf-8\")\n",
    "\n",
    "recipient_key = RSA.import_key(file_receiver_pem.getvalue())\n",
    "session_key = get_random_bytes(16)\n",
    "\n",
    "# Encrypt the session key with the public RSA key\n",
    "cipher_rsa = PKCS1_OAEP.new(recipient_key)\n",
    "enc_session_key = cipher_rsa.encrypt(session_key)\n",
    "\n",
    "# Encrypt the data with the AES session key\n",
    "cipher_aes = AES.new(session_key, AES.MODE_EAX)\n",
    "ciphertext, tag = cipher_aes.encrypt_and_digest(data)\n",
    "\n",
    "# simulate writing the encrypted file\n",
    "file_encrypted_data = io.BytesIO()\n",
    "[file_encrypted_data.write(x) for x in(enc_session_key, cipher_aes.nonce, tag, ciphertext)]\n"
   ]
  },
  {
   "source": [
    "The receiver first deciphers the session key, then the message itself."
   ],
   "cell_type": "markdown",
   "metadata": {}
  },
  {
   "cell_type": "code",
   "execution_count": 41,
   "metadata": {},
   "outputs": [
    {
     "output_type": "stream",
     "name": "stdout",
     "text": [
      "deciphered message: We shall attack at dawn\n"
     ]
    }
   ],
   "source": [
    "private_key = RSA.import_key(file_private_pem.getvalue())\n",
    "\n",
    "file_encrypted_data.seek(0)\n",
    "enc_session_key, nonce, tag, ciphertext = \\\n",
    "   [ file_encrypted_data.read(x) for x in (private_key.size_in_bytes(), 16, 16, -1) ]\n",
    "\n",
    "# Decrypt the session key with the private RSA key\n",
    "cipher_rsa = PKCS1_OAEP.new(private_key)\n",
    "session_key = cipher_rsa.decrypt(enc_session_key)\n",
    "\n",
    "# Decrypt the data with the AES session key to recover the message\n",
    "cipher_aes = AES.new(session_key, AES.MODE_EAX, nonce)\n",
    "data = cipher_aes.decrypt_and_verify(ciphertext, tag)\n",
    "\n",
    "print(\"deciphered message:\", data.decode(\"utf-8\"))\n"
   ]
  },
  {
   "source": [
    "A more streamlined example is provided by [nakov](https://cryptobook.nakov.com/asymmetric-key-ciphers/rsa-encrypt-decrypt-examples). First generate a pair of keys:"
   ],
   "cell_type": "markdown",
   "metadata": {}
  },
  {
   "source": [
    "from Crypto.PublicKey import RSA\n",
    "from Crypto.Cipher import PKCS1_OAEP\n",
    "import binascii\n",
    "\n",
    "keyPair = RSA.generate(3072)"
   ],
   "cell_type": "code",
   "metadata": {},
   "execution_count": 33,
   "outputs": [
    {
     "output_type": "stream",
     "name": "stdout",
     "text": [
      "Public key:\n n=xc2a9c7a0d232aaf60570cbd56eab ... \n e=0x10001\n----BEGIN PUBLIC KEY-----\nMIIBojANBgkqhkiG9w0BAQEFAAOCAY8AMIIBigKCAYEAwqnHoNIyqvYFcMvVbquA\nCIyMf09m\n"
     ]
    }
   ]
  },
  {
   "source": [
    "The pair being made of a public and a private key:"
   ],
   "cell_type": "markdown",
   "metadata": {}
  },
  {
   "cell_type": "code",
   "execution_count": 36,
   "metadata": {},
   "outputs": [
    {
     "output_type": "stream",
     "name": "stdout",
     "text": [
      "Public key:\n n=xc2a9c7a0d232aaf60570cbd56eab ... \n e=0x10001\n----BEGIN PUBLIC KEY-----\nMIIBojANBgkqhkiG9w0BAQEFAAOCAY8AMIIBigKCAYEAwqnHoNIyqvYFcMvVbquA\nCIyMf09m\n"
     ]
    }
   ],
   "source": [
    "pubKey = keyPair.publickey()\n",
    "print(f\"Public key:\\n n={hex(pubKey.n)[1:30]} ... \\n e={hex(pubKey.e)}\")\n",
    "pubKeyPEM = pubKey.exportKey()\n",
    "print(pubKeyPEM.decode('ascii')[1:100])"
   ]
  },
  {
   "cell_type": "code",
   "execution_count": 37,
   "metadata": {},
   "outputs": [
    {
     "output_type": "stream",
     "name": "stdout",
     "text": [
      "Private key:\n n=xc2a9c7a0d232aaf60570cbd56eab ... \n d=x3c06c0a12dd023f9c349ba0131a4 ...\n----BEGIN RSA PRIVATE KEY-----\nMIIG4gIBAAKCAYEAwqnHoNIyqvYFcMvVbquACIyMf09mTt9OkyPtj/f6Pjoxuf0n\nH+3\n"
     ]
    }
   ],
   "source": [
    "print(f\"Private key:\\n n={hex(pubKey.n)[1:30]} ... \\n d={hex(keyPair.d)[1:30]} ...\")\n",
    "privKeyPEM = keyPair.exportKey()\n",
    "print(privKeyPEM.decode('ascii')[1:100])\n"
   ]
  },
  {
   "source": [
    "The next step is to encrypt the message (steps 1 and 2 from the above discussion)"
   ],
   "cell_type": "markdown",
   "metadata": {}
  },
  {
   "cell_type": "code",
   "execution_count": 39,
   "metadata": {},
   "outputs": [
    {
     "output_type": "stream",
     "name": "stdout",
     "text": [
      "Encrypted: b'7f63bf59d048dca242063a9c6eefa5dc35c15c7cd4d24fd54d6e1312be87c1435e4f12d3efa997e26b6e57b38d4f46fa8fa' ...\n"
     ]
    }
   ],
   "source": [
    "msg = b'We shall attack at dawn'\n",
    "encryptor = PKCS1_OAEP.new(pubKey)\n",
    "encrypted = encryptor.encrypt(msg)\n",
    "print(\"Encrypted:\", binascii.hexlify(encrypted)[1:100], \"...\")"
   ]
  },
  {
   "source": [
    "The decryption follows"
   ],
   "cell_type": "markdown",
   "metadata": {}
  },
  {
   "source": [
    "decryptor = PKCS1_OAEP.new(keyPair)\n",
    "decrypted = decryptor.decrypt(encrypted)\n",
    "print('Decrypted:', decrypted)"
   ],
   "cell_type": "code",
   "metadata": {},
   "execution_count": 40,
   "outputs": [
    {
     "output_type": "stream",
     "name": "stdout",
     "text": [
      "Decrypted: b'We shall attack at dawn'\n"
     ]
    }
   ]
  },
  {
   "source": [
    "## Signature\n"
   ],
   "cell_type": "markdown",
   "metadata": {}
  },
  {
   "source": [
    "The signature of a message is the encryption, with the signer's private key, of the hash of the message. Anyone with the signer's public key can therefore verify a signature by performaing two calculations:\n",
    "\n",
    "1. hash the message\n",
    "2. decrypt the signature with the public key\n",
    "\n",
    "The hash code of the message must be identical to the decrypted signature. The following example is taken from the [pycryptodome documentation](https://pycryptodome.readthedocs.io/en/latest/src/signature/dsa.html?highlight=signature), using the same public/private key pair as in the previous section:"
   ],
   "cell_type": "markdown",
   "metadata": {}
  },
  {
   "cell_type": "code",
   "execution_count": null,
   "metadata": {},
   "outputs": [],
   "source": [
    "from Crypto.Hash import SHA256\n",
    "from Crypto.PublicKey import ECC\n",
    "from Crypto.Signature import DSS\n",
    "\n",
    "message = b'I give my permission to order #4355'\n",
    "\n",
    "file_encrypted_data.seek(0)\n",
    "\n",
    "key = ECC.import_key(open('privkey.der').read())\n",
    ">>> h = SHA256.new(message)\n",
    ">>> signer = DSS.new(key, 'fips-186-3')\n",
    ">>> signature = signer.sign(h)"
   ]
  },
  {
   "source": [
    "# The Blockchain"
   ],
   "cell_type": "markdown",
   "metadata": {}
  },
  {
   "source": [
    "We start with a highly simplified model of blockchain described by [Michael Chrupcala](https://medium.com/coinmonks/python-tutorial-build-a-blockchain-713c706f6531)"
   ],
   "cell_type": "markdown",
   "metadata": {}
  }
 ]
}